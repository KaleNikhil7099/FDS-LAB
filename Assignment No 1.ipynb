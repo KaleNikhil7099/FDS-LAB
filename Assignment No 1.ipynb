{
 "cells": [
  {
   "cell_type": "code",
   "execution_count": 1,
   "id": "e4d7ea4b",
   "metadata": {},
   "outputs": [
    {
     "data": {
      "text/plain": [
       "dtype('int64')"
      ]
     },
     "execution_count": 1,
     "metadata": {},
     "output_type": "execute_result"
    }
   ],
   "source": [
    "import numpy as np\n",
    "arr1=np.array([[1,2,3],[2,4,5],[4,7,8]])\n",
    "arr1\n",
    "zeros_arr=np.zeros(5,dtype=\"int\")\n",
    "zeros_arr\n",
    "zeros_arr.dtype"
   ]
  },
  {
   "cell_type": "code",
   "execution_count": 2,
   "id": "b13165de",
   "metadata": {},
   "outputs": [
    {
     "data": {
      "text/plain": [
       "dtype('int64')"
      ]
     },
     "execution_count": 2,
     "metadata": {},
     "output_type": "execute_result"
    }
   ],
   "source": [
    "a=np.array([[1,2,3,4],[4,5,6,7],[6,8,4,9],])\n",
    "a.dtype"
   ]
  },
  {
   "cell_type": "code",
   "execution_count": 3,
   "id": "c63234ea",
   "metadata": {},
   "outputs": [
    {
     "data": {
      "text/plain": [
       "array([[1, 2, 3, 4, 4, 5],\n",
       "       [6, 7, 6, 8, 4, 9]])"
      ]
     },
     "execution_count": 3,
     "metadata": {},
     "output_type": "execute_result"
    }
   ],
   "source": [
    "c=np.array([[1,2,3],[5,7,9]])\n",
    "b=np.swapaxes(c,0,1)\n",
    "b\n",
    "c.max()\n",
    "a.reshape(2,6)"
   ]
  },
  {
   "cell_type": "code",
   "execution_count": 4,
   "id": "48b95360",
   "metadata": {},
   "outputs": [],
   "source": [
    "arr = np.linspace(1, 6, 12)\n",
    "arr\n",
    "arr_2d = arr.reshape(3, 4)\n",
    "arr_2d\n",
    "import numpy as np"
   ]
  },
  {
   "cell_type": "code",
   "execution_count": 6,
   "id": "60196da7",
   "metadata": {},
   "outputs": [
    {
     "name": "stdout",
     "output_type": "stream",
     "text": [
      "Original array:\n",
      "[1.         1.45454545 1.90909091 2.36363636 2.81818182 3.27272727\n",
      " 3.72727273 4.18181818 4.63636364 5.09090909 5.54545455 6.        ]\n",
      "\n",
      "Sorted along axis=0 (by columns):\n",
      "[1.         1.45454545 1.90909091 2.36363636 2.81818182 3.27272727\n",
      " 3.72727273 4.18181818 4.63636364 5.09090909 5.54545455 6.        ]\n"
     ]
    }
   ],
   "source": [
    "print(\"Original array:\")\n",
    "print(arr)\n",
    "\n",
    "sorted_axis0 = np.sort(arr, axis=0)\n",
    "print(\"\\nSorted along axis=0 (by columns):\")\n",
    "print(sorted_axis0)\n",
    "\n"
   ]
  }
 ],
 "metadata": {
  "kernelspec": {
   "display_name": "Python 3",
   "language": "python",
   "name": "python3"
  },
  "language_info": {
   "codemirror_mode": {
    "name": "ipython",
    "version": 3
   },
   "file_extension": ".py",
   "mimetype": "text/x-python",
   "name": "python",
   "nbconvert_exporter": "python",
   "pygments_lexer": "ipython3",
   "version": "3.13.5"
  }
 },
 "nbformat": 4,
 "nbformat_minor": 5
}
